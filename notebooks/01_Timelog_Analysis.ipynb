{
 "cells": [
  {
   "cell_type": "markdown",
   "id": "103991ab-2a3d-41ad-9994-ea822d0f062e",
   "metadata": {},
   "source": [
    "# Enactus Timelog Analysis\n",
    "The Enactus DCU Timelog found at [enactusdcu-timelog.com](enactusdcu-timelog.com) is used by members to track their time spent on Enactus activities including events, meetings, project development and research. This data has been cleaned, analysed and visualised. This notebook performs this work. The following notebook presents a summary of the results."
   ]
  },
  {
   "cell_type": "code",
   "execution_count": 6,
   "id": "3c42b6b8-8927-432f-90c5-22c1830a44ad",
   "metadata": {
    "execution": {
     "iopub.execute_input": "2022-11-27T22:10:23.676994Z",
     "iopub.status.busy": "2022-11-27T22:10:23.676994Z",
     "iopub.status.idle": "2022-11-27T22:10:23.696801Z",
     "shell.execute_reply": "2022-11-27T22:10:23.696801Z",
     "shell.execute_reply.started": "2022-11-27T22:10:23.676994Z"
    },
    "tags": []
   },
   "outputs": [],
   "source": [
    "import pandas as pd\n",
    "import numpy as np\n",
    "from pandas_profiling import ProfileReport\n",
    "import matplotlib.pyplot as plt\n",
    "import seaborn as sns\n",
    "import datetime as dt\n",
    "import calendar\n",
    "%matplotlib inline"
   ]
  },
  {
   "cell_type": "code",
   "execution_count": 7,
   "id": "c745f50a-f949-4e8e-82ff-6bd2fe96acc0",
   "metadata": {
    "execution": {
     "iopub.execute_input": "2022-11-27T22:10:23.696801Z",
     "iopub.status.busy": "2022-11-27T22:10:23.696801Z",
     "iopub.status.idle": "2022-11-27T22:10:23.705630Z",
     "shell.execute_reply": "2022-11-27T22:10:23.705630Z",
     "shell.execute_reply.started": "2022-11-27T22:10:23.696801Z"
    }
   },
   "outputs": [],
   "source": [
    "# Setting Parking Style\n",
    "def set_parking_protect_style():\n",
    "    sns.set_style('white')\n",
    "    plt.rcParams['axes.spines.right'] = False\n",
    "    plt.rcParams['axes.spines.top'] = False\n",
    "    plt.rcParams['patch.edgecolor'] = 'white'\n",
    "\n",
    "set_parking_protect_style()"
   ]
  },
  {
   "cell_type": "code",
   "execution_count": 8,
   "id": "2740b15e-e705-434c-b138-fd2a4a9eed58",
   "metadata": {
    "execution": {
     "iopub.execute_input": "2022-11-27T22:10:23.705630Z",
     "iopub.status.busy": "2022-11-27T22:10:23.705630Z",
     "iopub.status.idle": "2022-11-27T22:10:23.791731Z",
     "shell.execute_reply": "2022-11-27T22:10:23.791731Z",
     "shell.execute_reply.started": "2022-11-27T22:10:23.705630Z"
    }
   },
   "outputs": [],
   "source": [
    "df = pd.read_json('../data/timelogger.json')"
   ]
  },
  {
   "cell_type": "code",
   "execution_count": 9,
   "id": "b1aa2b84-f49d-4ce2-8de2-745988ce169a",
   "metadata": {
    "execution": {
     "iopub.execute_input": "2022-11-27T22:10:23.796798Z",
     "iopub.status.busy": "2022-11-27T22:10:23.796798Z",
     "iopub.status.idle": "2022-11-27T22:10:23.833588Z",
     "shell.execute_reply": "2022-11-27T22:10:23.833588Z",
     "shell.execute_reply.started": "2022-11-27T22:10:23.796798Z"
    },
    "tags": []
   },
   "outputs": [
    {
     "data": {
      "text/html": [
       "<div>\n",
       "<style scoped>\n",
       "    .dataframe tbody tr th:only-of-type {\n",
       "        vertical-align: middle;\n",
       "    }\n",
       "\n",
       "    .dataframe tbody tr th {\n",
       "        vertical-align: top;\n",
       "    }\n",
       "\n",
       "    .dataframe thead th {\n",
       "        text-align: right;\n",
       "    }\n",
       "</style>\n",
       "<table border=\"1\" class=\"dataframe\">\n",
       "  <thead>\n",
       "    <tr style=\"text-align: right;\">\n",
       "      <th></th>\n",
       "      <th>-N5pQDq-MRa5sJpOGOCh</th>\n",
       "      <th>-N5qacgs4VOSkU44G_fP</th>\n",
       "      <th>-N5vQ4iJNzNOMcdUPJnh</th>\n",
       "      <th>-N5vQLdaq7S4tArOUoT5</th>\n",
       "      <th>-N68N7Hn5VIhcYCxK07e</th>\n",
       "      <th>-N69Mby9oAOaK5JPm6Nz</th>\n",
       "      <th>-N69McfmSZZ78VLgS4tD</th>\n",
       "      <th>-N69MivYBvbmqhTTWcHM</th>\n",
       "      <th>-N69NE0xnK4iPcjVlUsj</th>\n",
       "      <th>-N69NggxWZik9swNKaCR</th>\n",
       "      <th>...</th>\n",
       "      <th>-NGT6UxI1Yxq636aVEIj</th>\n",
       "      <th>-NGT6XE33Pyu2S588xfy</th>\n",
       "      <th>-NGWC17l7h6sPS8x_81q</th>\n",
       "      <th>-NGXOb1TerJmnYYAQcQ1</th>\n",
       "      <th>-NGXb9F5y7vGZZ1fXzKL</th>\n",
       "      <th>-NGXbCvAAT7khDviGrZ4</th>\n",
       "      <th>-NGY3qMIDzZZfqo-GYGt</th>\n",
       "      <th>-NGZFgLFYGNcQauC3cAa</th>\n",
       "      <th>-NGZFsPf56TmEEjc2pdZ</th>\n",
       "      <th>-NGZOUGLhNG66RfRzKGJ</th>\n",
       "    </tr>\n",
       "  </thead>\n",
       "  <tbody>\n",
       "    <tr>\n",
       "      <th>date</th>\n",
       "      <td>30:06:2022</td>\n",
       "      <td>30:06:2022</td>\n",
       "      <td>01:07:2022</td>\n",
       "      <td>01:07:2022</td>\n",
       "      <td>04:07:2022</td>\n",
       "      <td>04:07:2022</td>\n",
       "      <td>04:07:2022</td>\n",
       "      <td>04:07:2022</td>\n",
       "      <td>04:07:2022</td>\n",
       "      <td>04:07:2022</td>\n",
       "      <td>...</td>\n",
       "      <td>09:11:2022</td>\n",
       "      <td>09:11:2022</td>\n",
       "      <td>10:11:2022</td>\n",
       "      <td>10:11:2022</td>\n",
       "      <td>10:11:2022</td>\n",
       "      <td>10:11:2022</td>\n",
       "      <td>10:11:2022</td>\n",
       "      <td>11:11:2022</td>\n",
       "      <td>11:11:2022</td>\n",
       "      <td>11:11:2022</td>\n",
       "    </tr>\n",
       "    <tr>\n",
       "      <th>hour</th>\n",
       "      <td>16:18:53</td>\n",
       "      <td>21:52:22</td>\n",
       "      <td>20:20:44</td>\n",
       "      <td>20:20:44</td>\n",
       "      <td>13:18:48</td>\n",
       "      <td>16:44:23</td>\n",
       "      <td>16:44:23</td>\n",
       "      <td>16:44:23</td>\n",
       "      <td>16:44:23</td>\n",
       "      <td>18:04:41</td>\n",
       "      <td>...</td>\n",
       "      <td>20:38:55</td>\n",
       "      <td>20:39:04</td>\n",
       "      <td>11:01:57</td>\n",
       "      <td>16:36:31</td>\n",
       "      <td>17:35:43</td>\n",
       "      <td>17:35:58</td>\n",
       "      <td>19:45:26</td>\n",
       "      <td>01:16:48</td>\n",
       "      <td>01:17:37</td>\n",
       "      <td>01:55:14</td>\n",
       "    </tr>\n",
       "    <tr>\n",
       "      <th>name</th>\n",
       "      <td>KJT</td>\n",
       "      <td>NG</td>\n",
       "      <td>KJT</td>\n",
       "      <td>NG</td>\n",
       "      <td>NG</td>\n",
       "      <td>DK</td>\n",
       "      <td>BM</td>\n",
       "      <td>MS</td>\n",
       "      <td>KJT</td>\n",
       "      <td>NG</td>\n",
       "      <td>...</td>\n",
       "      <td>Klara Tamchynova</td>\n",
       "      <td>Klara Tamchynova</td>\n",
       "      <td>Kevin James</td>\n",
       "      <td>Kevin James</td>\n",
       "      <td>Sadhana R Sambandam</td>\n",
       "      <td>Sadhana R Sambandam</td>\n",
       "      <td>Kevin James</td>\n",
       "      <td>Diarmuid Brady</td>\n",
       "      <td>Diarmuid Brady</td>\n",
       "      <td>Diarmuid Brady</td>\n",
       "    </tr>\n",
       "    <tr>\n",
       "      <th>reason</th>\n",
       "      <td>Development</td>\n",
       "      <td>Development</td>\n",
       "      <td>Development</td>\n",
       "      <td>Meeting</td>\n",
       "      <td>Research</td>\n",
       "      <td>Meeting</td>\n",
       "      <td>Meeting</td>\n",
       "      <td>Meeting</td>\n",
       "      <td>Meeting</td>\n",
       "      <td>Meeting</td>\n",
       "      <td>...</td>\n",
       "      <td>Meeting</td>\n",
       "      <td>Research</td>\n",
       "      <td>Development</td>\n",
       "      <td>Meeting</td>\n",
       "      <td>Meeting</td>\n",
       "      <td>Development</td>\n",
       "      <td>Development</td>\n",
       "      <td>Meeting</td>\n",
       "      <td>Development</td>\n",
       "      <td>Development</td>\n",
       "    </tr>\n",
       "    <tr>\n",
       "      <th>time</th>\n",
       "      <td>360</td>\n",
       "      <td>120</td>\n",
       "      <td>60</td>\n",
       "      <td>67</td>\n",
       "      <td>138</td>\n",
       "      <td>60</td>\n",
       "      <td>60</td>\n",
       "      <td>60</td>\n",
       "      <td>60</td>\n",
       "      <td>60</td>\n",
       "      <td>...</td>\n",
       "      <td>60</td>\n",
       "      <td>120</td>\n",
       "      <td>30</td>\n",
       "      <td>60</td>\n",
       "      <td>70</td>\n",
       "      <td>120</td>\n",
       "      <td>120</td>\n",
       "      <td>60</td>\n",
       "      <td>210</td>\n",
       "      <td>100</td>\n",
       "    </tr>\n",
       "    <tr>\n",
       "      <th>from</th>\n",
       "      <td>NaN</td>\n",
       "      <td>NaN</td>\n",
       "      <td>NaN</td>\n",
       "      <td>NaN</td>\n",
       "      <td>NaN</td>\n",
       "      <td>NaN</td>\n",
       "      <td>NaN</td>\n",
       "      <td>NaN</td>\n",
       "      <td>NaN</td>\n",
       "      <td>NaN</td>\n",
       "      <td>...</td>\n",
       "      <td>website</td>\n",
       "      <td>website</td>\n",
       "      <td>website</td>\n",
       "      <td>website</td>\n",
       "      <td>website</td>\n",
       "      <td>website</td>\n",
       "      <td>website</td>\n",
       "      <td>website</td>\n",
       "      <td>website</td>\n",
       "      <td>website</td>\n",
       "    </tr>\n",
       "    <tr>\n",
       "      <th>photoURL</th>\n",
       "      <td>NaN</td>\n",
       "      <td>NaN</td>\n",
       "      <td>NaN</td>\n",
       "      <td>NaN</td>\n",
       "      <td>NaN</td>\n",
       "      <td>NaN</td>\n",
       "      <td>NaN</td>\n",
       "      <td>NaN</td>\n",
       "      <td>NaN</td>\n",
       "      <td>NaN</td>\n",
       "      <td>...</td>\n",
       "      <td>https://lh3.googleusercontent.com/a-/ACNPEu-68...</td>\n",
       "      <td>https://lh3.googleusercontent.com/a-/ACNPEu-68...</td>\n",
       "      <td>https://lh3.googleusercontent.com/a-/AFdZucp1W...</td>\n",
       "      <td>https://lh3.googleusercontent.com/a-/AFdZucp1W...</td>\n",
       "      <td>https://lh3.googleusercontent.com/a-/ACNPEu8yu...</td>\n",
       "      <td>https://lh3.googleusercontent.com/a-/ACNPEu8yu...</td>\n",
       "      <td>https://lh3.googleusercontent.com/a-/AFdZucp1W...</td>\n",
       "      <td>https://lh3.googleusercontent.com/a/ALm5wu1Z-u...</td>\n",
       "      <td>https://lh3.googleusercontent.com/a/ALm5wu1Z-u...</td>\n",
       "      <td>https://lh3.googleusercontent.com/a/ALm5wu1Z-u...</td>\n",
       "    </tr>\n",
       "  </tbody>\n",
       "</table>\n",
       "<p>7 rows × 183 columns</p>\n",
       "</div>"
      ],
      "text/plain": [
       "         -N5pQDq-MRa5sJpOGOCh -N5qacgs4VOSkU44G_fP -N5vQ4iJNzNOMcdUPJnh  \\\n",
       "date               30:06:2022           30:06:2022           01:07:2022   \n",
       "hour                 16:18:53             21:52:22             20:20:44   \n",
       "name                      KJT                   NG                  KJT   \n",
       "reason            Development          Development          Development   \n",
       "time                      360                  120                   60   \n",
       "from                      NaN                  NaN                  NaN   \n",
       "photoURL                  NaN                  NaN                  NaN   \n",
       "\n",
       "         -N5vQLdaq7S4tArOUoT5 -N68N7Hn5VIhcYCxK07e -N69Mby9oAOaK5JPm6Nz  \\\n",
       "date               01:07:2022           04:07:2022           04:07:2022   \n",
       "hour                 20:20:44             13:18:48             16:44:23   \n",
       "name                       NG                   NG                   DK   \n",
       "reason                Meeting             Research              Meeting   \n",
       "time                       67                  138                   60   \n",
       "from                      NaN                  NaN                  NaN   \n",
       "photoURL                  NaN                  NaN                  NaN   \n",
       "\n",
       "         -N69McfmSZZ78VLgS4tD -N69MivYBvbmqhTTWcHM -N69NE0xnK4iPcjVlUsj  \\\n",
       "date               04:07:2022           04:07:2022           04:07:2022   \n",
       "hour                 16:44:23             16:44:23             16:44:23   \n",
       "name                       BM                   MS                  KJT   \n",
       "reason                Meeting              Meeting              Meeting   \n",
       "time                       60                   60                   60   \n",
       "from                      NaN                  NaN                  NaN   \n",
       "photoURL                  NaN                  NaN                  NaN   \n",
       "\n",
       "         -N69NggxWZik9swNKaCR  ...  \\\n",
       "date               04:07:2022  ...   \n",
       "hour                 18:04:41  ...   \n",
       "name                       NG  ...   \n",
       "reason                Meeting  ...   \n",
       "time                       60  ...   \n",
       "from                      NaN  ...   \n",
       "photoURL                  NaN  ...   \n",
       "\n",
       "                                       -NGT6UxI1Yxq636aVEIj  \\\n",
       "date                                             09:11:2022   \n",
       "hour                                               20:38:55   \n",
       "name                                       Klara Tamchynova   \n",
       "reason                                              Meeting   \n",
       "time                                                     60   \n",
       "from                                                website   \n",
       "photoURL  https://lh3.googleusercontent.com/a-/ACNPEu-68...   \n",
       "\n",
       "                                       -NGT6XE33Pyu2S588xfy  \\\n",
       "date                                             09:11:2022   \n",
       "hour                                               20:39:04   \n",
       "name                                       Klara Tamchynova   \n",
       "reason                                             Research   \n",
       "time                                                    120   \n",
       "from                                                website   \n",
       "photoURL  https://lh3.googleusercontent.com/a-/ACNPEu-68...   \n",
       "\n",
       "                                       -NGWC17l7h6sPS8x_81q  \\\n",
       "date                                             10:11:2022   \n",
       "hour                                               11:01:57   \n",
       "name                                            Kevin James   \n",
       "reason                                          Development   \n",
       "time                                                     30   \n",
       "from                                                website   \n",
       "photoURL  https://lh3.googleusercontent.com/a-/AFdZucp1W...   \n",
       "\n",
       "                                       -NGXOb1TerJmnYYAQcQ1  \\\n",
       "date                                             10:11:2022   \n",
       "hour                                               16:36:31   \n",
       "name                                            Kevin James   \n",
       "reason                                              Meeting   \n",
       "time                                                     60   \n",
       "from                                                website   \n",
       "photoURL  https://lh3.googleusercontent.com/a-/AFdZucp1W...   \n",
       "\n",
       "                                       -NGXb9F5y7vGZZ1fXzKL  \\\n",
       "date                                             10:11:2022   \n",
       "hour                                               17:35:43   \n",
       "name                                    Sadhana R Sambandam   \n",
       "reason                                              Meeting   \n",
       "time                                                     70   \n",
       "from                                                website   \n",
       "photoURL  https://lh3.googleusercontent.com/a-/ACNPEu8yu...   \n",
       "\n",
       "                                       -NGXbCvAAT7khDviGrZ4  \\\n",
       "date                                             10:11:2022   \n",
       "hour                                               17:35:58   \n",
       "name                                    Sadhana R Sambandam   \n",
       "reason                                          Development   \n",
       "time                                                    120   \n",
       "from                                                website   \n",
       "photoURL  https://lh3.googleusercontent.com/a-/ACNPEu8yu...   \n",
       "\n",
       "                                       -NGY3qMIDzZZfqo-GYGt  \\\n",
       "date                                             10:11:2022   \n",
       "hour                                               19:45:26   \n",
       "name                                            Kevin James   \n",
       "reason                                          Development   \n",
       "time                                                    120   \n",
       "from                                                website   \n",
       "photoURL  https://lh3.googleusercontent.com/a-/AFdZucp1W...   \n",
       "\n",
       "                                       -NGZFgLFYGNcQauC3cAa  \\\n",
       "date                                             11:11:2022   \n",
       "hour                                               01:16:48   \n",
       "name                                         Diarmuid Brady   \n",
       "reason                                              Meeting   \n",
       "time                                                     60   \n",
       "from                                                website   \n",
       "photoURL  https://lh3.googleusercontent.com/a/ALm5wu1Z-u...   \n",
       "\n",
       "                                       -NGZFsPf56TmEEjc2pdZ  \\\n",
       "date                                             11:11:2022   \n",
       "hour                                               01:17:37   \n",
       "name                                         Diarmuid Brady   \n",
       "reason                                          Development   \n",
       "time                                                    210   \n",
       "from                                                website   \n",
       "photoURL  https://lh3.googleusercontent.com/a/ALm5wu1Z-u...   \n",
       "\n",
       "                                       -NGZOUGLhNG66RfRzKGJ  \n",
       "date                                             11:11:2022  \n",
       "hour                                               01:55:14  \n",
       "name                                         Diarmuid Brady  \n",
       "reason                                          Development  \n",
       "time                                                    100  \n",
       "from                                                website  \n",
       "photoURL  https://lh3.googleusercontent.com/a/ALm5wu1Z-u...  \n",
       "\n",
       "[7 rows x 183 columns]"
      ]
     },
     "execution_count": 9,
     "metadata": {},
     "output_type": "execute_result"
    }
   ],
   "source": [
    "df"
   ]
  },
  {
   "cell_type": "markdown",
   "id": "9b21405f-00ea-4ab1-b59d-f03f8cca999f",
   "metadata": {},
   "source": [
    "## Processing\n",
    "The dataframe is a transposed version of what we want.\n",
    "We need to:\n",
    "- Transpose the Dataframe\n",
    "- Rename columns\n",
    "- Change data types"
   ]
  },
  {
   "cell_type": "code",
   "execution_count": 10,
   "id": "5f9db4cb-2e25-4507-8150-143aa44acc91",
   "metadata": {
    "execution": {
     "iopub.execute_input": "2022-11-27T22:10:23.833588Z",
     "iopub.status.busy": "2022-11-27T22:10:23.833588Z",
     "iopub.status.idle": "2022-11-27T22:10:23.849588Z",
     "shell.execute_reply": "2022-11-27T22:10:23.849588Z",
     "shell.execute_reply.started": "2022-11-27T22:10:23.833588Z"
    }
   },
   "outputs": [
    {
     "data": {
      "text/html": [
       "<div>\n",
       "<style scoped>\n",
       "    .dataframe tbody tr th:only-of-type {\n",
       "        vertical-align: middle;\n",
       "    }\n",
       "\n",
       "    .dataframe tbody tr th {\n",
       "        vertical-align: top;\n",
       "    }\n",
       "\n",
       "    .dataframe thead th {\n",
       "        text-align: right;\n",
       "    }\n",
       "</style>\n",
       "<table border=\"1\" class=\"dataframe\">\n",
       "  <thead>\n",
       "    <tr style=\"text-align: right;\">\n",
       "      <th></th>\n",
       "      <th>date</th>\n",
       "      <th>hour</th>\n",
       "      <th>name</th>\n",
       "      <th>reason</th>\n",
       "      <th>time</th>\n",
       "      <th>from</th>\n",
       "      <th>photoURL</th>\n",
       "    </tr>\n",
       "  </thead>\n",
       "  <tbody>\n",
       "    <tr>\n",
       "      <th>-N5pQDq-MRa5sJpOGOCh</th>\n",
       "      <td>30:06:2022</td>\n",
       "      <td>16:18:53</td>\n",
       "      <td>KJT</td>\n",
       "      <td>Development</td>\n",
       "      <td>360</td>\n",
       "      <td>NaN</td>\n",
       "      <td>NaN</td>\n",
       "    </tr>\n",
       "    <tr>\n",
       "      <th>-N5qacgs4VOSkU44G_fP</th>\n",
       "      <td>30:06:2022</td>\n",
       "      <td>21:52:22</td>\n",
       "      <td>NG</td>\n",
       "      <td>Development</td>\n",
       "      <td>120</td>\n",
       "      <td>NaN</td>\n",
       "      <td>NaN</td>\n",
       "    </tr>\n",
       "    <tr>\n",
       "      <th>-N5vQ4iJNzNOMcdUPJnh</th>\n",
       "      <td>01:07:2022</td>\n",
       "      <td>20:20:44</td>\n",
       "      <td>KJT</td>\n",
       "      <td>Development</td>\n",
       "      <td>60</td>\n",
       "      <td>NaN</td>\n",
       "      <td>NaN</td>\n",
       "    </tr>\n",
       "    <tr>\n",
       "      <th>-N5vQLdaq7S4tArOUoT5</th>\n",
       "      <td>01:07:2022</td>\n",
       "      <td>20:20:44</td>\n",
       "      <td>NG</td>\n",
       "      <td>Meeting</td>\n",
       "      <td>67</td>\n",
       "      <td>NaN</td>\n",
       "      <td>NaN</td>\n",
       "    </tr>\n",
       "    <tr>\n",
       "      <th>-N68N7Hn5VIhcYCxK07e</th>\n",
       "      <td>04:07:2022</td>\n",
       "      <td>13:18:48</td>\n",
       "      <td>NG</td>\n",
       "      <td>Research</td>\n",
       "      <td>138</td>\n",
       "      <td>NaN</td>\n",
       "      <td>NaN</td>\n",
       "    </tr>\n",
       "  </tbody>\n",
       "</table>\n",
       "</div>"
      ],
      "text/plain": [
       "                            date      hour name       reason time from  \\\n",
       "-N5pQDq-MRa5sJpOGOCh  30:06:2022  16:18:53  KJT  Development  360  NaN   \n",
       "-N5qacgs4VOSkU44G_fP  30:06:2022  21:52:22   NG  Development  120  NaN   \n",
       "-N5vQ4iJNzNOMcdUPJnh  01:07:2022  20:20:44  KJT  Development   60  NaN   \n",
       "-N5vQLdaq7S4tArOUoT5  01:07:2022  20:20:44   NG      Meeting   67  NaN   \n",
       "-N68N7Hn5VIhcYCxK07e  04:07:2022  13:18:48   NG     Research  138  NaN   \n",
       "\n",
       "                     photoURL  \n",
       "-N5pQDq-MRa5sJpOGOCh      NaN  \n",
       "-N5qacgs4VOSkU44G_fP      NaN  \n",
       "-N5vQ4iJNzNOMcdUPJnh      NaN  \n",
       "-N5vQLdaq7S4tArOUoT5      NaN  \n",
       "-N68N7Hn5VIhcYCxK07e      NaN  "
      ]
     },
     "execution_count": 10,
     "metadata": {},
     "output_type": "execute_result"
    }
   ],
   "source": [
    "df = df.T\n",
    "df.head()"
   ]
  },
  {
   "cell_type": "code",
   "execution_count": 11,
   "id": "e49b3449-7743-4fc7-a85b-a39ce20d8235",
   "metadata": {
    "execution": {
     "iopub.execute_input": "2022-11-27T22:10:23.849588Z",
     "iopub.status.busy": "2022-11-27T22:10:23.849588Z",
     "iopub.status.idle": "2022-11-27T22:10:23.866750Z",
     "shell.execute_reply": "2022-11-27T22:10:23.866750Z",
     "shell.execute_reply.started": "2022-11-27T22:10:23.849588Z"
    }
   },
   "outputs": [],
   "source": [
    "df.columns = ['Date', 'Time', 'Name', 'Reason', 'Duration', 'FromWebsite', 'PhotoURL']"
   ]
  },
  {
   "cell_type": "code",
   "execution_count": 12,
   "id": "9b64ddcd-2a4d-4c1e-9710-552106794a80",
   "metadata": {
    "execution": {
     "iopub.execute_input": "2022-11-27T22:10:23.866750Z",
     "iopub.status.busy": "2022-11-27T22:10:23.866750Z",
     "iopub.status.idle": "2022-11-27T22:10:23.886785Z",
     "shell.execute_reply": "2022-11-27T22:10:23.886785Z",
     "shell.execute_reply.started": "2022-11-27T22:10:23.866750Z"
    }
   },
   "outputs": [
    {
     "data": {
      "text/plain": [
       "Meeting        87\n",
       "Development    56\n",
       "Event          21\n",
       "Research       16\n",
       "Work            3\n",
       "Name: Reason, dtype: int64"
      ]
     },
     "execution_count": 12,
     "metadata": {},
     "output_type": "execute_result"
    }
   ],
   "source": [
    "# Checking out the Reason columns before converting it to Categorical Data\n",
    "df.Reason.value_counts()"
   ]
  },
  {
   "cell_type": "markdown",
   "id": "0da552b3-fcdd-4c4b-93ed-aee2ed4eb386",
   "metadata": {},
   "source": [
    "We see that Work only has 3 entries, this is because it was a mistake at the time and it should be Development instead, we need to change this."
   ]
  },
  {
   "cell_type": "code",
   "execution_count": 13,
   "id": "849c930e-df84-4027-a3f0-920e03a02790",
   "metadata": {
    "execution": {
     "iopub.execute_input": "2022-11-27T22:10:40.421422Z",
     "iopub.status.busy": "2022-11-27T22:10:40.421422Z",
     "iopub.status.idle": "2022-11-27T22:10:40.436849Z",
     "shell.execute_reply": "2022-11-27T22:10:40.436849Z",
     "shell.execute_reply.started": "2022-11-27T22:10:40.421422Z"
    }
   },
   "outputs": [],
   "source": [
    "df.loc[df.Reason == 'Work', 'Reason'] = 'Development'"
   ]
  },
  {
   "cell_type": "markdown",
   "id": "d19bcf23-9064-4d26-abf0-8d2b1c482e73",
   "metadata": {},
   "source": [
    "I want to check what values are contained in the FromWebsite column."
   ]
  },
  {
   "cell_type": "code",
   "execution_count": 14,
   "id": "5543a927-0b40-4e27-9c3c-e614457b6cc0",
   "metadata": {
    "execution": {
     "iopub.execute_input": "2022-11-27T22:10:40.436849Z",
     "iopub.status.busy": "2022-11-27T22:10:40.436849Z",
     "iopub.status.idle": "2022-11-27T22:10:40.461553Z",
     "shell.execute_reply": "2022-11-27T22:10:40.461553Z",
     "shell.execute_reply.started": "2022-11-27T22:10:40.436849Z"
    },
    "tags": []
   },
   "outputs": [
    {
     "data": {
      "text/plain": [
       "website        113\n",
       "discord bot     49\n",
       "Name: FromWebsite, dtype: int64"
      ]
     },
     "execution_count": 14,
     "metadata": {},
     "output_type": "execute_result"
    }
   ],
   "source": [
    "df.FromWebsite.value_counts()"
   ]
  },
  {
   "cell_type": "markdown",
   "id": "8e8f0ff8-25db-4d70-90a4-119d6ebfc4bc",
   "metadata": {},
   "source": [
    "Let's change these to Website and Discord Bot"
   ]
  },
  {
   "cell_type": "code",
   "execution_count": 15,
   "id": "f75d9a1c-3010-4f77-bbe6-abc2ae5a0d11",
   "metadata": {
    "execution": {
     "iopub.execute_input": "2022-11-27T22:10:53.686406Z",
     "iopub.status.busy": "2022-11-27T22:10:53.686406Z",
     "iopub.status.idle": "2022-11-27T22:10:53.696539Z",
     "shell.execute_reply": "2022-11-27T22:10:53.696539Z",
     "shell.execute_reply.started": "2022-11-27T22:10:53.686406Z"
    }
   },
   "outputs": [],
   "source": [
    "df.FromWebsite.replace(['website', 'discord bot'], ['Website', 'Discord Bot'], inplace=True)"
   ]
  },
  {
   "cell_type": "code",
   "execution_count": 16,
   "id": "df60ef17-7b0a-4d74-a142-291768eef541",
   "metadata": {
    "execution": {
     "iopub.execute_input": "2022-11-27T22:10:53.696539Z",
     "iopub.status.busy": "2022-11-27T22:10:53.696539Z",
     "iopub.status.idle": "2022-11-27T22:10:53.751476Z",
     "shell.execute_reply": "2022-11-27T22:10:53.751476Z",
     "shell.execute_reply.started": "2022-11-27T22:10:53.696539Z"
    },
    "tags": []
   },
   "outputs": [],
   "source": [
    "# Changing all the data types\n",
    "# Note that new columns are being created rather than changing the original columns \n",
    "# this ensures we can validate the changes made\n",
    "df['Datetime'] = pd.to_datetime(df.Date + ':' + df.Time, format='%d:%m:%Y:%H:%M:%S')\n",
    "df['Reason_cat'] = pd.Categorical(df.Reason, ['Meeting', 'Development', 'Event', 'Research'], ordered=True)\n",
    "df.Duration = df.Duration.astype('int64')\n",
    "df['FromWebsite_cat'] = pd.Categorical(df.FromWebsite, ['Website', 'Discord Bot'], ordered=True)\n",
    "df = df.set_index('Datetime').reset_index()"
   ]
  },
  {
   "cell_type": "code",
   "execution_count": 17,
   "id": "6e25b7af-7fed-47d5-8109-c731d93a6b2b",
   "metadata": {
    "execution": {
     "iopub.execute_input": "2022-11-27T22:11:02.297006Z",
     "iopub.status.busy": "2022-11-27T22:11:02.297006Z",
     "iopub.status.idle": "2022-11-27T22:11:02.346584Z",
     "shell.execute_reply": "2022-11-27T22:11:02.346584Z",
     "shell.execute_reply.started": "2022-11-27T22:11:02.297006Z"
    },
    "tags": []
   },
   "outputs": [
    {
     "name": "stdout",
     "output_type": "stream",
     "text": [
      "<class 'pandas.core.frame.DataFrame'>\n",
      "RangeIndex: 183 entries, 0 to 182\n",
      "Data columns (total 10 columns):\n",
      " #   Column           Non-Null Count  Dtype         \n",
      "---  ------           --------------  -----         \n",
      " 0   Datetime         183 non-null    datetime64[ns]\n",
      " 1   Date             183 non-null    object        \n",
      " 2   Time             183 non-null    object        \n",
      " 3   Name             183 non-null    object        \n",
      " 4   Reason           183 non-null    object        \n",
      " 5   Duration         183 non-null    int64         \n",
      " 6   FromWebsite      162 non-null    object        \n",
      " 7   PhotoURL         111 non-null    object        \n",
      " 8   Reason_cat       183 non-null    category      \n",
      " 9   FromWebsite_cat  162 non-null    category      \n",
      "dtypes: category(2), datetime64[ns](1), int64(1), object(6)\n",
      "memory usage: 12.2+ KB\n"
     ]
    }
   ],
   "source": [
    "df.info()"
   ]
  },
  {
   "cell_type": "code",
   "execution_count": 18,
   "id": "d39a1f38-af78-4649-aab6-5c8172dbd889",
   "metadata": {
    "execution": {
     "iopub.execute_input": "2022-11-27T22:11:38.508685Z",
     "iopub.status.busy": "2022-11-27T22:11:38.508685Z",
     "iopub.status.idle": "2022-11-27T22:11:38.541640Z",
     "shell.execute_reply": "2022-11-27T22:11:38.541640Z",
     "shell.execute_reply.started": "2022-11-27T22:11:38.508685Z"
    },
    "tags": []
   },
   "outputs": [
    {
     "data": {
      "text/html": [
       "<div>\n",
       "<style scoped>\n",
       "    .dataframe tbody tr th:only-of-type {\n",
       "        vertical-align: middle;\n",
       "    }\n",
       "\n",
       "    .dataframe tbody tr th {\n",
       "        vertical-align: top;\n",
       "    }\n",
       "\n",
       "    .dataframe thead th {\n",
       "        text-align: right;\n",
       "    }\n",
       "</style>\n",
       "<table border=\"1\" class=\"dataframe\">\n",
       "  <thead>\n",
       "    <tr style=\"text-align: right;\">\n",
       "      <th></th>\n",
       "      <th>Datetime</th>\n",
       "      <th>Date</th>\n",
       "      <th>Time</th>\n",
       "      <th>Name</th>\n",
       "      <th>Reason</th>\n",
       "      <th>Duration</th>\n",
       "      <th>FromWebsite</th>\n",
       "      <th>PhotoURL</th>\n",
       "      <th>Reason_cat</th>\n",
       "      <th>FromWebsite_cat</th>\n",
       "    </tr>\n",
       "  </thead>\n",
       "  <tbody>\n",
       "    <tr>\n",
       "      <th>0</th>\n",
       "      <td>2022-06-30 16:18:53</td>\n",
       "      <td>30:06:2022</td>\n",
       "      <td>16:18:53</td>\n",
       "      <td>KJT</td>\n",
       "      <td>Development</td>\n",
       "      <td>360</td>\n",
       "      <td>NaN</td>\n",
       "      <td>NaN</td>\n",
       "      <td>Development</td>\n",
       "      <td>NaN</td>\n",
       "    </tr>\n",
       "    <tr>\n",
       "      <th>1</th>\n",
       "      <td>2022-06-30 21:52:22</td>\n",
       "      <td>30:06:2022</td>\n",
       "      <td>21:52:22</td>\n",
       "      <td>NG</td>\n",
       "      <td>Development</td>\n",
       "      <td>120</td>\n",
       "      <td>NaN</td>\n",
       "      <td>NaN</td>\n",
       "      <td>Development</td>\n",
       "      <td>NaN</td>\n",
       "    </tr>\n",
       "    <tr>\n",
       "      <th>2</th>\n",
       "      <td>2022-07-01 20:20:44</td>\n",
       "      <td>01:07:2022</td>\n",
       "      <td>20:20:44</td>\n",
       "      <td>KJT</td>\n",
       "      <td>Development</td>\n",
       "      <td>60</td>\n",
       "      <td>NaN</td>\n",
       "      <td>NaN</td>\n",
       "      <td>Development</td>\n",
       "      <td>NaN</td>\n",
       "    </tr>\n",
       "    <tr>\n",
       "      <th>3</th>\n",
       "      <td>2022-07-01 20:20:44</td>\n",
       "      <td>01:07:2022</td>\n",
       "      <td>20:20:44</td>\n",
       "      <td>NG</td>\n",
       "      <td>Meeting</td>\n",
       "      <td>67</td>\n",
       "      <td>NaN</td>\n",
       "      <td>NaN</td>\n",
       "      <td>Meeting</td>\n",
       "      <td>NaN</td>\n",
       "    </tr>\n",
       "    <tr>\n",
       "      <th>4</th>\n",
       "      <td>2022-07-04 13:18:48</td>\n",
       "      <td>04:07:2022</td>\n",
       "      <td>13:18:48</td>\n",
       "      <td>NG</td>\n",
       "      <td>Research</td>\n",
       "      <td>138</td>\n",
       "      <td>NaN</td>\n",
       "      <td>NaN</td>\n",
       "      <td>Research</td>\n",
       "      <td>NaN</td>\n",
       "    </tr>\n",
       "  </tbody>\n",
       "</table>\n",
       "</div>"
      ],
      "text/plain": [
       "             Datetime        Date      Time Name       Reason  Duration  \\\n",
       "0 2022-06-30 16:18:53  30:06:2022  16:18:53  KJT  Development       360   \n",
       "1 2022-06-30 21:52:22  30:06:2022  21:52:22   NG  Development       120   \n",
       "2 2022-07-01 20:20:44  01:07:2022  20:20:44  KJT  Development        60   \n",
       "3 2022-07-01 20:20:44  01:07:2022  20:20:44   NG      Meeting        67   \n",
       "4 2022-07-04 13:18:48  04:07:2022  13:18:48   NG     Research       138   \n",
       "\n",
       "  FromWebsite PhotoURL   Reason_cat FromWebsite_cat  \n",
       "0         NaN      NaN  Development             NaN  \n",
       "1         NaN      NaN  Development             NaN  \n",
       "2         NaN      NaN  Development             NaN  \n",
       "3         NaN      NaN      Meeting             NaN  \n",
       "4         NaN      NaN     Research             NaN  "
      ]
     },
     "execution_count": 18,
     "metadata": {},
     "output_type": "execute_result"
    }
   ],
   "source": [
    "df.head()"
   ]
  },
  {
   "cell_type": "markdown",
   "id": "7ab66faa-c8dd-4dab-bbe8-96890f7f5f4a",
   "metadata": {},
   "source": [
    "I also only want data from September 2022 onward. We will filter out the records before this point."
   ]
  },
  {
   "cell_type": "code",
   "execution_count": 225,
   "id": "f41f2ae1-9a7a-4d87-8b56-fc6a185fa966",
   "metadata": {},
   "outputs": [],
   "source": [
    "df = df.loc[df.Datetime.dt.month >= 9]"
   ]
  },
  {
   "cell_type": "markdown",
   "id": "da0df40c-6026-43a1-b36d-bc75b6340b72",
   "metadata": {},
   "source": [
    "## Cleaning up Name Values\n",
    "Some people have entered time on the Website using their email and discord using the bot. We need to ensure that the values are consistent, so we can get an accurate representation of the work each person has put in."
   ]
  },
  {
   "cell_type": "code",
   "execution_count": 19,
   "id": "75da194e-0098-4db1-9190-fe1def57abe1",
   "metadata": {
    "execution": {
     "iopub.execute_input": "2022-11-27T22:13:19.436045Z",
     "iopub.status.busy": "2022-11-27T22:13:19.436045Z",
     "iopub.status.idle": "2022-11-27T22:13:19.446150Z",
     "shell.execute_reply": "2022-11-27T22:13:19.446150Z",
     "shell.execute_reply.started": "2022-11-27T22:13:19.436045Z"
    }
   },
   "outputs": [
    {
     "data": {
      "text/plain": [
       "Kevin James                51\n",
       "KJT                        26\n",
       "NG                         14\n",
       "Niamh Gowran               13\n",
       "MS                         11\n",
       "Diarmuid Brady             10\n",
       "Klara Tamchynova            9\n",
       "AZW                         8\n",
       "Alethea Zainab Williams     7\n",
       "DB                          7\n",
       "Sadhana R Sambandam         6\n",
       "Darragh Manning             4\n",
       "Suzanne Jackson             3\n",
       "Stephen Murnane             3\n",
       "LH                          2\n",
       "NC                          2\n",
       "Calem Mc Glynn              2\n",
       "Nino Candrlic               1\n",
       "BM                          1\n",
       "DK                          1\n",
       "Teniola Malomo              1\n",
       "Naman Chauhan               1\n",
       "Name: Name, dtype: int64"
      ]
     },
     "execution_count": 19,
     "metadata": {},
     "output_type": "execute_result"
    }
   ],
   "source": [
    "df.Name.value_counts()"
   ]
  },
  {
   "cell_type": "markdown",
   "id": "f502d4f5-053f-435a-a649-8d881a45faae",
   "metadata": {},
   "source": [
    "We can map each Initial back to the full name"
   ]
  },
  {
   "cell_type": "code",
   "execution_count": 20,
   "id": "434f0658-5e04-4538-8013-e0e1cba7ac0b",
   "metadata": {
    "execution": {
     "iopub.execute_input": "2022-11-27T22:13:19.446150Z",
     "iopub.status.busy": "2022-11-27T22:13:19.446150Z",
     "iopub.status.idle": "2022-11-27T22:13:19.455145Z",
     "shell.execute_reply": "2022-11-27T22:13:19.455145Z",
     "shell.execute_reply.started": "2022-11-27T22:13:19.446150Z"
    }
   },
   "outputs": [],
   "source": [
    "initials = {\n",
    "    'KJT': 'Kevin James', \n",
    "    'AZW': 'Alethea Zainab Williams',\n",
    "    'NG': 'Niamh Gowran', \n",
    "    'MS': 'Malavika',  \n",
    "    'DB': 'Diarmuid Brady', \n",
    "    'NC': 'Nino Czanderlitch', \n",
    "    'LH': 'Lina', \n",
    "    'BM': 'BM', \n",
    "    'DK': 'BM'\n",
    "}"
   ]
  },
  {
   "cell_type": "code",
   "execution_count": 21,
   "id": "adb23fea-7915-4e67-a949-93c98e888ff5",
   "metadata": {
    "execution": {
     "iopub.execute_input": "2022-11-27T22:13:19.455145Z",
     "iopub.status.busy": "2022-11-27T22:13:19.455145Z",
     "iopub.status.idle": "2022-11-27T22:13:19.476158Z",
     "shell.execute_reply": "2022-11-27T22:13:19.476158Z",
     "shell.execute_reply.started": "2022-11-27T22:13:19.455145Z"
    }
   },
   "outputs": [],
   "source": [
    "for k in initials.keys():\n",
    "    df.Name.replace(k, initials[k], inplace=True)"
   ]
  },
  {
   "cell_type": "code",
   "execution_count": 22,
   "id": "f969b6b7-41bc-4e8c-a21e-1629e40ea6d0",
   "metadata": {
    "execution": {
     "iopub.execute_input": "2022-11-27T22:13:19.476158Z",
     "iopub.status.busy": "2022-11-27T22:13:19.476158Z",
     "iopub.status.idle": "2022-11-27T22:13:19.501623Z",
     "shell.execute_reply": "2022-11-27T22:13:19.501623Z",
     "shell.execute_reply.started": "2022-11-27T22:13:19.476158Z"
    },
    "tags": []
   },
   "outputs": [
    {
     "data": {
      "text/plain": [
       "Kevin James                77\n",
       "Niamh Gowran               27\n",
       "Diarmuid Brady             17\n",
       "Alethea Zainab Williams    15\n",
       "Malavika                   11\n",
       "Klara Tamchynova            9\n",
       "Sadhana R Sambandam         6\n",
       "Darragh Manning             4\n",
       "Stephen Murnane             3\n",
       "Suzanne Jackson             3\n",
       "BM                          2\n",
       "Nino Czanderlitch           2\n",
       "Lina                        2\n",
       "Calem Mc Glynn              2\n",
       "Naman Chauhan               1\n",
       "Nino Candrlic               1\n",
       "Teniola Malomo              1\n",
       "Name: Name, dtype: int64"
      ]
     },
     "execution_count": 22,
     "metadata": {},
     "output_type": "execute_result"
    }
   ],
   "source": [
    "df.Name.value_counts()"
   ]
  },
  {
   "cell_type": "markdown",
   "id": "071d8ebc-e747-42ad-8e6a-69e30ba9be6b",
   "metadata": {},
   "source": [
    "## Visualisation\n",
    "In this section I will visualize the answers to a number of different questions\n",
    "\n",
    "1. What Reason have people logged the most time for?\n",
    "3. How has time logging changed over time?\n",
    "2. Which People have logged the greatest number of times?\n",
    "3. Which People have logged the most amount of time?"
   ]
  },
  {
   "cell_type": "code",
   "execution_count": 23,
   "id": "beca55fc-52e1-412e-95cf-e40608e106b8",
   "metadata": {
    "execution": {
     "iopub.execute_input": "2022-11-27T22:13:28.075700Z",
     "iopub.status.busy": "2022-11-27T22:13:28.075700Z",
     "iopub.status.idle": "2022-11-27T22:13:28.086235Z",
     "shell.execute_reply": "2022-11-27T22:13:28.086235Z",
     "shell.execute_reply.started": "2022-11-27T22:13:28.075700Z"
    },
    "tags": []
   },
   "outputs": [],
   "source": [
    "parking_protect_palette = ['#5b87c6', '#174484', '#9cb7dc', '#8ce9ee']"
   ]
  },
  {
   "cell_type": "markdown",
   "id": "f4261a05-5249-44f6-80c8-e5fd1bd59027",
   "metadata": {},
   "source": [
    "### What Reason Have People Logged the Most Time For?"
   ]
  },
  {
   "cell_type": "code",
   "execution_count": 24,
   "id": "18f254e2-948a-4d8a-a675-2d8396394fcb",
   "metadata": {
    "execution": {
     "iopub.execute_input": "2022-11-27T22:13:38.596281Z",
     "iopub.status.busy": "2022-11-27T22:13:38.596281Z",
     "iopub.status.idle": "2022-11-27T22:13:38.995945Z",
     "shell.execute_reply": "2022-11-27T22:13:38.995945Z",
     "shell.execute_reply.started": "2022-11-27T22:13:38.596281Z"
    },
    "tags": []
   },
   "outputs": [
    {
     "data": {
      "image/png": "[encoded data removed]",
      "text/plain": [
       "<Figure size 360x360 with 1 Axes>"
      ]
     },
     "metadata": {},
     "output_type": "display_data"
    }
   ],
   "source": [
    "df_agg = (df.groupby('Reason')['Duration'].sum() / 60).reset_index()\n",
    "sns.catplot(data=df_agg, x='Reason', y='Duration', kind='bar', palette=parking_protect_palette);"
   ]
  },
  {
   "cell_type": "markdown",
   "id": "9d6f3075-22c0-4c15-8662-10d9e956b974",
   "metadata": {},
   "source": [
    "### How Has Timelogging Changed Over Time?\n",
    "To answer this question we need to first define a few columns.\n",
    "- Month\n",
    "- Week\n",
    "- Weekday"
   ]
  },
  {
   "cell_type": "code",
   "execution_count": 25,
   "id": "ade5e30b-60a5-41b9-b86a-d7fbc26dce1d",
   "metadata": {
    "execution": {
     "iopub.execute_input": "2022-11-27T22:14:11.455860Z",
     "iopub.status.busy": "2022-11-27T22:14:11.455860Z",
     "iopub.status.idle": "2022-11-27T22:14:11.475656Z",
     "shell.execute_reply": "2022-11-27T22:14:11.475656Z",
     "shell.execute_reply.started": "2022-11-27T22:14:11.455860Z"
    }
   },
   "outputs": [],
   "source": [
    "df['Month_num'] = df.Datetime.dt.month.astype('int')\n",
    "df['Month'] = pd.Categorical(df.Month_num.apply(lambda x: calendar.month_abbr[x]), \n",
    "                             ['Sep', 'Oct', 'Nov'], \n",
    "                             ordered=True)\n",
    "df['Week'] = df.Datetime.dt.isocalendar().week.astype('int') - 36\n",
    "df['Weekday'] = pd.Categorical(df.Datetime.dt.day_name(), ['Monday','Tuesday','Wednesday', 'Thursday',\n",
    "                                                           'Friday', 'Saturday', 'Sunday'], ordered=True)"
   ]
  },
  {
   "cell_type": "code",
   "execution_count": 26,
   "id": "efe51212-2219-490f-8633-32b5ac138a48",
   "metadata": {
    "execution": {
     "iopub.execute_input": "2022-11-27T22:14:11.475656Z",
     "iopub.status.busy": "2022-11-27T22:14:11.475656Z",
     "iopub.status.idle": "2022-11-27T22:14:11.635202Z",
     "shell.execute_reply": "2022-11-27T22:14:11.635202Z",
     "shell.execute_reply.started": "2022-11-27T22:14:11.475656Z"
    }
   },
   "outputs": [
    {
     "data": {
      "image/png": "[encoded data removed]",
      "text/plain": [
       "<Figure size 432x288 with 1 Axes>"
      ]
     },
     "metadata": {},
     "output_type": "display_data"
    }
   ],
   "source": [
    "x = 'Month'\n",
    "y = 'Duration'\n",
    "df_agg = (df.groupby(x)[y].sum() / 60).reset_index()\n",
    "sns.lineplot(data=df_agg, x=x, y=y)\n",
    "plt.ylabel('Duration (Hours)');"
   ]
  },
  {
   "cell_type": "code",
   "execution_count": 27,
   "id": "725ba555-8de8-4d63-9726-9419915a2159",
   "metadata": {
    "execution": {
     "iopub.execute_input": "2022-11-27T22:14:11.635202Z",
     "iopub.status.busy": "2022-11-27T22:14:11.635202Z",
     "iopub.status.idle": "2022-11-27T22:14:11.885022Z",
     "shell.execute_reply": "2022-11-27T22:14:11.885022Z",
     "shell.execute_reply.started": "2022-11-27T22:14:11.635202Z"
    }
   },
   "outputs": [
    {
     "data": {
      "image/png": "[encoded data removed]",
      "text/plain": [
       "<Figure size 432x288 with 1 Axes>"
      ]
     },
     "metadata": {},
     "output_type": "display_data"
    }
   ],
   "source": [
    "x = ['Month', 'Reason']\n",
    "y = 'Duration'\n",
    "df_agg = (df.groupby(x)[y].sum() / 60).reset_index()\n",
    "sns.lineplot(data=df_agg, x=x[0], y=y, hue=x[1], palette=parking_protect_palette)\n",
    "plt.ylabel('Duration (Hours)');"
   ]
  },
  {
   "cell_type": "code",
   "execution_count": 28,
   "id": "bc885bce-0133-4097-a452-8ba37b45f560",
   "metadata": {
    "execution": {
     "iopub.execute_input": "2022-11-27T22:14:11.885022Z",
     "iopub.status.busy": "2022-11-27T22:14:11.885022Z",
     "iopub.status.idle": "2022-11-27T22:14:12.100764Z",
     "shell.execute_reply": "2022-11-27T22:14:12.099763Z",
     "shell.execute_reply.started": "2022-11-27T22:14:11.885022Z"
    }
   },
   "outputs": [
    {
     "data": {
      "image/png": "[encoded data removed]",
      "text/plain": [
       "<Figure size 576x288 with 1 Axes>"
      ]
     },
     "metadata": {},
     "output_type": "display_data"
    }
   ],
   "source": [
    "x = 'Week'\n",
    "y = 'Duration'\n",
    "df_agg = (df.loc[df['Week'] > 0].groupby(x)[y].sum() / 60).reset_index()\n",
    "ax, fig = plt.subplots(figsize=(8, 4))\n",
    "x = sns.lineplot(data=df_agg, x=x, y=y)\n",
    "plt.ylabel('Duration (Hours)')\n",
    "plt.title('Initial Peak at the beginning of the year but hours remain high')\n",
    "plt.xticks(list(range(1, 10)));"
   ]
  },
  {
   "cell_type": "code",
   "execution_count": 29,
   "id": "ac309058-c37e-4976-81f1-8bb9881f1a8e",
   "metadata": {
    "execution": {
     "iopub.execute_input": "2022-11-27T22:14:12.102768Z",
     "iopub.status.busy": "2022-11-27T22:14:12.102768Z",
     "iopub.status.idle": "2022-11-27T22:14:12.405908Z",
     "shell.execute_reply": "2022-11-27T22:14:12.405908Z",
     "shell.execute_reply.started": "2022-11-27T22:14:12.102768Z"
    }
   },
   "outputs": [
    {
     "data": {
      "image/png": "[encoded data removed]",
      "text/plain": [
       "<Figure size 576x288 with 1 Axes>"
      ]
     },
     "metadata": {},
     "output_type": "display_data"
    }
   ],
   "source": [
    "x = ['Week', 'Reason']\n",
    "y = 'Duration'\n",
    "df_agg = (df.loc[df['Week'] > 0].groupby(x)[y].sum() / 60).reset_index()\n",
    "ax, fig = plt.subplots(figsize=(8, 4))\n",
    "x = sns.lineplot(data=df_agg, x=x[0], y=y, hue=x[1], )\n",
    "plt.ylabel('Duration (Hours)')\n",
    "plt.title('Initial Peak at the beginning of the year but numbers remain high')\n",
    "plt.xticks(list(range(1, 10)));"
   ]
  },
  {
   "cell_type": "code",
   "execution_count": 31,
   "id": "0a6a6748-d8f8-4ece-96db-b02c05536ab6",
   "metadata": {
    "execution": {
     "iopub.execute_input": "2022-11-27T22:14:38.415771Z",
     "iopub.status.busy": "2022-11-27T22:14:38.415771Z",
     "iopub.status.idle": "2022-11-27T22:14:38.586246Z",
     "shell.execute_reply": "2022-11-27T22:14:38.586072Z",
     "shell.execute_reply.started": "2022-11-27T22:14:38.415771Z"
    },
    "tags": []
   },
   "outputs": [
    {
     "data": {
      "image/png": "[encoded data removed]",
      "text/plain": [
       "<Figure size 432x288 with 1 Axes>"
      ]
     },
     "metadata": {},
     "output_type": "display_data"
    }
   ],
   "source": [
    "x = 'Weekday'\n",
    "y = 'Duration'\n",
    "df_agg = (df.groupby(x)[y].sum() / 60).reset_index()\n",
    "sns.lineplot(data=df_agg, x=x, y=y)\n",
    "plt.ylabel('Duration (Hours)');"
   ]
  },
  {
   "cell_type": "markdown",
   "id": "4da01223-4b67-4f9e-bbbc-ac6b5d598388",
   "metadata": {},
   "source": [
    "### Which People Have Logged the Most Time?\n",
    "Because there are so many people we will only choose the top 5"
   ]
  },
  {
   "cell_type": "code",
   "execution_count": 33,
   "id": "682207fd-69a6-4c46-9c97-30d98bed4377",
   "metadata": {
    "execution": {
     "iopub.execute_input": "2022-11-27T22:15:03.370756Z",
     "iopub.status.busy": "2022-11-27T22:15:03.370756Z",
     "iopub.status.idle": "2022-11-27T22:15:03.401086Z",
     "shell.execute_reply": "2022-11-27T22:15:03.401086Z",
     "shell.execute_reply.started": "2022-11-27T22:15:03.370756Z"
    },
    "tags": []
   },
   "outputs": [],
   "source": [
    "x = 'Name'\n",
    "y = 'Duration'\n",
    "top_five = df.groupby(x, as_index=False)[y].sum().sort_values(y, ascending=False).Name[:5].to_list()"
   ]
  },
  {
   "cell_type": "code",
   "execution_count": 34,
   "id": "36d757b2-fe59-4d0f-a619-eddd1d2b2ed0",
   "metadata": {
    "execution": {
     "iopub.execute_input": "2022-11-27T22:15:08.245050Z",
     "iopub.status.busy": "2022-11-27T22:15:08.245050Z",
     "iopub.status.idle": "2022-11-27T22:15:08.625577Z",
     "shell.execute_reply": "2022-11-27T22:15:08.624996Z",
     "shell.execute_reply.started": "2022-11-27T22:15:08.245050Z"
    },
    "tags": []
   },
   "outputs": [
    {
     "data": {
      "image/png": "[encoded data removed]",
      "text/plain": [
       "<Figure size 576x288 with 1 Axes>"
      ]
     },
     "metadata": {},
     "output_type": "display_data"
    }
   ],
   "source": [
    "x = ['Week', 'Name']\n",
    "y = 'Duration'\n",
    "df_agg = (df.loc[(df['Week'] > 0) & (df.Name.isin(top_five))].groupby(x)[y].sum() / 60).reset_index()\n",
    "ax, fig = plt.subplots(figsize=(8, 4))\n",
    "x = sns.lineplot(data=df_agg, x=x[0], y=y, hue=x[1])\n",
    "plt.ylabel('Duration (Hours)')\n",
    "plt.title('Niamh is committing more as the weeks progress')\n",
    "plt.xticks(list(range(1, 10)))\n",
    "plt.legend(bbox_to_anchor=(1, 1.05));"
   ]
  },
  {
   "cell_type": "code",
   "execution_count": 40,
   "id": "a9bb50db-ef8a-4670-9147-f00b35ee6556",
   "metadata": {
    "execution": {
     "iopub.execute_input": "2022-11-27T22:17:56.365354Z",
     "iopub.status.busy": "2022-11-27T22:17:56.365354Z",
     "iopub.status.idle": "2022-11-27T22:17:56.638906Z",
     "shell.execute_reply": "2022-11-27T22:17:56.638906Z",
     "shell.execute_reply.started": "2022-11-27T22:17:56.365354Z"
    },
    "tags": []
   },
   "outputs": [
    {
     "data": {
      "image/png": "[encoded data removed]",
      "text/plain": [
       "<Figure size 720x360 with 1 Axes>"
      ]
     },
     "metadata": {},
     "output_type": "display_data"
    }
   ],
   "source": [
    "x = 'Name'\n",
    "y = 'Duration'\n",
    "top_five = df.groupby(x, as_index=False)[y].sum().sort_values(y, ascending=False).Name[:5].to_list()\n",
    "df_agg = (df.loc[df.Name.isin(top_five)].groupby(x)[y].sum() / 60).reset_index().sort_values(y)\n",
    "sns.catplot(data=df_agg, x=x, y=y, kind='bar', aspect=2, palette='Blues')\n",
    "plt.title('Kevin has Logged the Most.')\n",
    "plt.xlabel('')\n",
    "plt.ylabel('Duration (Hours)');"
   ]
  },
  {
   "cell_type": "code",
   "execution_count": 41,
   "id": "0aed000d-f40e-4716-be9d-c730cd63e120",
   "metadata": {
    "execution": {
     "iopub.execute_input": "2022-11-27T22:20:53.373891Z",
     "iopub.status.busy": "2022-11-27T22:20:53.373891Z",
     "iopub.status.idle": "2022-11-27T22:20:53.394748Z",
     "shell.execute_reply": "2022-11-27T22:20:53.394748Z",
     "shell.execute_reply.started": "2022-11-27T22:20:53.373891Z"
    },
    "tags": []
   },
   "outputs": [],
   "source": [
    "# Outputting dataframe for use in the analysis report\n",
    "df.to_pickle('../data/clean.pkl')"
   ]
  }
 ],
 "metadata": {
  "kernelspec": {
   "display_name": "Python 3",
   "language": "python",
   "name": "python3"
  },
  "language_info": {
   "codemirror_mode": {
    "name": "ipython",
    "version": 3
   },
   "file_extension": ".py",
   "mimetype": "text/x-python",
   "name": "python",
   "nbconvert_exporter": "python",
   "pygments_lexer": "ipython3",
   "version": "3.8.8"
  }
 },
 "nbformat": 4,
 "nbformat_minor": 5
}
